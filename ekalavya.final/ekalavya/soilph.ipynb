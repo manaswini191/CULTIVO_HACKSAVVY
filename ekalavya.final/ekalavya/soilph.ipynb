{
 "cells": [
  {
   "cell_type": "code",
   "execution_count": 37,
   "id": "4c77be4e-c7eb-41b9-80e8-e9b7fe7f8243",
   "metadata": {},
   "outputs": [
    {
     "name": "stderr",
     "output_type": "stream",
     "text": [
      "C:\\Users\\dell\\anaconda3\\Lib\\site-packages\\sklearn\\base.py:439: UserWarning: X does not have valid feature names, but RandomForestRegressor was fitted with feature names\n",
      "  warnings.warn(\n",
      "C:\\Users\\dell\\anaconda3\\Lib\\site-packages\\sklearn\\base.py:439: UserWarning: X does not have valid feature names, but RandomForestClassifier was fitted with feature names\n",
      "  warnings.warn(\n",
      "C:\\Users\\dell\\anaconda3\\Lib\\site-packages\\sklearn\\base.py:439: UserWarning: X does not have valid feature names, but RandomForestRegressor was fitted with feature names\n",
      "  warnings.warn(\n"
     ]
    },
    {
     "name": "stdout",
     "output_type": "stream",
     "text": [
      "Predicted pH: 7.177205633802817\n",
      "Predicted Type: Black\n",
      "Predicted Nitrogen: 87.3530985915493\n",
      "Predicted Phosphorous: 48.54887323943661\n",
      "Predicted Potassium: 40.180422535211264\n"
     ]
    },
    {
     "name": "stderr",
     "output_type": "stream",
     "text": [
      "C:\\Users\\dell\\anaconda3\\Lib\\site-packages\\sklearn\\base.py:439: UserWarning: X does not have valid feature names, but RandomForestRegressor was fitted with feature names\n",
      "  warnings.warn(\n",
      "C:\\Users\\dell\\anaconda3\\Lib\\site-packages\\sklearn\\base.py:439: UserWarning: X does not have valid feature names, but RandomForestRegressor was fitted with feature names\n",
      "  warnings.warn(\n"
     ]
    }
   ],
   "source": [
    "import pandas as pd\n",
    "import numpy as np \n",
    "import cv2 \n",
    "import matplotlib.pyplot as plt \n",
    "from sklearn.ensemble import RandomForestRegressor \n",
    "from sklearn.ensemble import RandomForestClassifier \n",
    "from sklearn.model_selection import train_test_split \n",
    "from skimage.segmentation import slic \n",
    "import warnings\n",
    "\n",
    "\n",
    "soil_dataset = pd.read_csv('soilpH_rgb.csv')\n",
    "soil_dataset.head()\n",
    "\n",
    "x = soil_dataset[['R', 'G', 'B']]\n",
    "y = soil_dataset['pH']\n",
    "y.head()\n",
    "\n",
    "x_train, x_test, y_train, y_test = train_test_split(x, y, test_size=0.2, random_state=42)\n",
    "\n",
    "model = RandomForestRegressor(n_estimators=100, random_state=42)\n",
    "\n",
    "model.fit(x_train, y_train)\n",
    "\n",
    "y1=soil_dataset['Soil_Type']\n",
    "y1.head()\n",
    "\n",
    "x_train, x_test, y1_train, y1_test = train_test_split(x, y1, test_size=0.2, random_state=42)\n",
    "\n",
    "model1 = RandomForestClassifier(n_estimators=100, random_state=42)\n",
    "model1.fit(x_train, y1_train)\n",
    "\n",
    "y2=soil_dataset['Nitrogen']\n",
    "y2.head()\n",
    "\n",
    "x_train, x_test, y2_train, y2_test = train_test_split(x, y2, test_size=0.2, random_state=42)\n",
    "\n",
    "model2 = RandomForestRegressor(n_estimators=100, random_state=42)\n",
    "model2.fit(x_train, y2_train)\n",
    "\n",
    "y3=soil_dataset['Phosphorous']\n",
    "y3.head()\n",
    "\n",
    "x_train, x_test, y3_train, y3_test = train_test_split(x, y3, test_size=0.2, random_state=42)\n",
    "\n",
    "model3 = RandomForestRegressor(n_estimators=100, random_state=42)\n",
    "model3.fit(x_train, y3_train)\n",
    "\n",
    "y4=soil_dataset['Potassium']\n",
    "y4.head()\n",
    "\n",
    "x_train, x_test, y4_train, y4_test = train_test_split(x, y4, test_size=0.2, random_state=42)\n",
    "\n",
    "model4 = RandomForestRegressor(n_estimators=100, random_state=42)\n",
    "model4.fit(x_train, y4_train)\n",
    "\n",
    "def preprocess_image(image_path):\n",
    "\n",
    "    image = cv2.imread(image_path)\n",
    "\n",
    "    blurred_image = cv2.GaussianBlur(image, (5, 5), 0)\n",
    "\n",
    "    segments = slic(blurred_image, n_segments=100, compactness=10)\n",
    "    return blurred_image, segments\n",
    "\n",
    "\n",
    "def extract_rgb_from_segments(image, segments):\n",
    " \n",
    "    rgb_values = []\n",
    "    for segment_id in np.unique(segments):\n",
    "        mask = (segments == segment_id)\n",
    "        masked_image = cv2.bitwise_and(image, image, mask=mask.astype(np.uint8))\n",
    "        average_rgb = np.mean(masked_image[mask], axis=0)\n",
    "        rgb_values.append(average_rgb)\n",
    "    return np.array(rgb_values)\n",
    "\n",
    "def predict_ph_from_image(image_path, model):\n",
    "   \n",
    "    blurred_image, segments = preprocess_image(image_path)\n",
    "    rgb_values = extract_rgb_from_segments(blurred_image, segments)\n",
    "    predicted_ph = model.predict(rgb_values)\n",
    "    return np.mean(predicted_ph)\n",
    "\n",
    "def predict_type_from_image(image_path, model):\n",
    "   \n",
    "    blurred_image, segments = preprocess_image(image_path)\n",
    "    rgb_values = extract_rgb_from_segments(blurred_image, segments)\n",
    "    mean_rgb = np.mean(rgb_values, axis=0)\n",
    "    mean_rgb_2d = mean_rgb.reshape(1, -1)\n",
    "    predicted_type = model1.predict(mean_rgb_2d)\n",
    "    return predicted_type[0]\n",
    "\n",
    "def predict_Nitrogen_from_image(image_path, model):\n",
    "   \n",
    "    blurred_image, segments = preprocess_image(image_path)\n",
    "    rgb_values = extract_rgb_from_segments(blurred_image, segments)\n",
    "    predicted_Nitrogen = model2.predict(rgb_values)\n",
    "    return np.mean(predicted_Nitrogen)\n",
    "\n",
    "def predict_Phosphorous_from_image(image_path, model):\n",
    "   \n",
    "    blurred_image, segments = preprocess_image(image_path)\n",
    "    rgb_values = extract_rgb_from_segments(blurred_image, segments)\n",
    "    predicted_Phosphorous = model3.predict(rgb_values)\n",
    "    return np.mean(predicted_Phosphorous)\n",
    "\n",
    "def predict_Potassium_from_image(image_path, model):\n",
    "   \n",
    "    blurred_image, segments = preprocess_image(image_path)\n",
    "    rgb_values = extract_rgb_from_segments(blurred_image, segments)\n",
    "    predicted_Potassium = model4.predict(rgb_values)\n",
    "    return np.mean(predicted_Potassium)\n",
    "\n",
    "image_path = 'C:\\\\Users\\\\dell\\\\OneDrive\\\\Desktop\\\\cultivodup\\\\Black_10.jpg'\n",
    "predicted_ph = predict_ph_from_image(image_path, model)\n",
    "predicted_type=predict_type_from_image(image_path, model)\n",
    "predicted_Nitrogen=predict_Nitrogen_from_image(image_path, model)\n",
    "predicted_Phosphorous=predict_Phosphorous_from_image(image_path, model)\n",
    "predicted_Potassium=predict_Potassium_from_image(image_path, model)\n",
    "print(\"Predicted pH:\", predicted_ph)\n",
    "print(\"Predicted Type:\", predicted_type)\n",
    "print(\"Predicted Nitrogen:\", predicted_Nitrogen)\n",
    "print(\"Predicted Phosphorous:\", predicted_Phosphorous)\n",
    "print(\"Predicted Potassium:\", predicted_Potassium)\n",
    "\n"
   ]
  },
  {
   "cell_type": "code",
   "execution_count": 38,
   "id": "5046fb44-e07c-41d4-99ac-ee7c0386fc32",
   "metadata": {},
   "outputs": [],
   "source": [
    "import pickle\n"
   ]
  },
  {
   "cell_type": "code",
   "execution_count": 41,
   "id": "f3805962-264e-4cd5-96a3-1bcd0130a482",
   "metadata": {},
   "outputs": [],
   "source": [
    "Pkl_Filename = \"model.pkl\"  \n",
    "\n",
    "with open(Pkl_Filename, 'wb') as file:  \n",
    "    pickle.dump(model, file)"
   ]
  },
  {
   "cell_type": "code",
   "execution_count": 42,
   "id": "1eeeccff-2edf-4102-a9cf-68992bd5d7b3",
   "metadata": {},
   "outputs": [],
   "source": [
    "Pkl_Filename = \"model1.pkl\"  \n",
    "\n",
    "with open(Pkl_Filename, 'wb') as file:  \n",
    "    pickle.dump(model1, file)"
   ]
  },
  {
   "cell_type": "code",
   "execution_count": 43,
   "id": "270da367-4692-4e91-bc74-7938407b659a",
   "metadata": {},
   "outputs": [],
   "source": [
    "Pkl_Filename = \"model2.pkl\"  \n",
    "\n",
    "with open(Pkl_Filename, 'wb') as file:  \n",
    "    pickle.dump(model2, file)"
   ]
  },
  {
   "cell_type": "code",
   "execution_count": 44,
   "id": "ef483756-eb09-43bf-be71-b521814b4592",
   "metadata": {},
   "outputs": [],
   "source": [
    "Pkl_Filename = \"model3.pkl\"  \n",
    "\n",
    "with open(Pkl_Filename, 'wb') as file:  \n",
    "    pickle.dump(model3, file)"
   ]
  },
  {
   "cell_type": "code",
   "execution_count": null,
   "id": "0c1fe004-dec2-4ae8-9fb5-0baeb641e554",
   "metadata": {},
   "outputs": [],
   "source": [
    "Pkl_Filename = \"model4.pkl\"  \n",
    "\n",
    "with open(Pkl_Filename, 'wb') as file:  \n",
    "    pickle.dump(model4, file)"
   ]
  }
 ],
 "metadata": {
  "kernelspec": {
   "display_name": "Python 3 (ipykernel)",
   "language": "python",
   "name": "python3"
  },
  "language_info": {
   "codemirror_mode": {
    "name": "ipython",
    "version": 3
   },
   "file_extension": ".py",
   "mimetype": "text/x-python",
   "name": "python",
   "nbconvert_exporter": "python",
   "pygments_lexer": "ipython3",
   "version": "3.11.7"
  }
 },
 "nbformat": 4,
 "nbformat_minor": 5
}
